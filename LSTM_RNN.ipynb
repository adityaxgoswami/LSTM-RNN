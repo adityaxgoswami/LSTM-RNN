{
  "nbformat": 4,
  "nbformat_minor": 0,
  "metadata": {
    "colab": {
      "provenance": [],
      "authorship_tag": "ABX9TyMWb6fKebNCrlAucVtDXCwT",
      "include_colab_link": true
    },
    "kernelspec": {
      "name": "python3",
      "display_name": "Python 3"
    },
    "language_info": {
      "name": "python"
    }
  },
  "cells": [
    {
      "cell_type": "markdown",
      "metadata": {
        "id": "view-in-github",
        "colab_type": "text"
      },
      "source": [
        "<a href=\"https://colab.research.google.com/github/adityaxgoswami/LSTM-RNN/blob/main/LSTM_RNN.ipynb\" target=\"_parent\"><img src=\"https://colab.research.google.com/assets/colab-badge.svg\" alt=\"Open In Colab\"/></a>"
      ]
    },
    {
      "cell_type": "code",
      "source": [
        "# %%\n",
        "import pandas as pd\n",
        "import nltk\n",
        "nltk.download('gutenberg')\n",
        "\n",
        "# %%\n",
        "from nltk.corpus import gutenberg\n",
        "data=gutenberg.raw('shakespeare-hamlet.txt')\n",
        "\n",
        "#saving the file\n",
        "with open('hamlet.txt','w') as file:\n",
        "    file.write(data)\n",
        "\n",
        "# %% [markdown]\n",
        "# DATA PREPROCESSING\n",
        "\n",
        "# %%\n",
        "import numpy as np\n",
        "import tensorflow as tf\n",
        "from sklearn.model_selection import train_test_split\n",
        "from tensorflow.keras.preprocessing.sequence import pad_sequences\n",
        "from tensorflow.keras.preprocessing.text import Tokenizer\n",
        "\n",
        "# %%\n",
        "tokenizer=Tokenizer()\n",
        "\n",
        "with open('hamlet.txt', 'r') as file:\n",
        "    text = file.read().lower()\n",
        "\n",
        "# %% [markdown]\n",
        "# applying the tokenizer from tensorflow to the while data\n",
        "\n",
        "# %%\n",
        "tokenizer.fit_on_texts([text])\n",
        "\n",
        "# %% [markdown]\n",
        "# calculating the total len or count of the words using the .word_index method and adding 1 bc indexing start with 0\n",
        "\n",
        "# %%\n",
        "total_words=len(tokenizer.word_index)+1\n",
        "\n",
        "# %%\n",
        "print(total_words)\n",
        "\n",
        "# %% [markdown]\n",
        "# input sequences - we need to split the dataset into input and output sequences for making our model trains\n",
        "#\n",
        "#\n",
        "\n",
        "# %%\n",
        "input_sequence=[]\n",
        "for line in text.split('\\n'): #splits every line from the text dataset\n",
        "    token_list=tokenizer.texts_to_sequences([line])[0] #convetes into seq of numerical tokens\n",
        "    for i in range(len(token_list)):\n",
        "        n_grams_sequence = token_list[:i+1]  # takes elements from 0 to index i\n",
        "        input_sequence.append(n_grams_sequence)\n",
        "\n",
        "# %%\n",
        "input_sequence\n",
        "\n",
        "# %% [markdown]\n",
        "# NOW WE WANT TO APPLY PADDING TO THE INP_SEQ GENERATED TO MAKE THEM IN SAME LENGTH\n",
        "\n",
        "# %%\n",
        "#FOR PADDING WE NEED THE MAX LENGTH\n",
        "max_length = max([len(x) for x in input_sequence])\n",
        "max_length\n",
        "\n",
        "# %%\n",
        "input_sequence=np.array(pad_sequences(input_sequence,maxlen=max_length))\n",
        "#convertign to numpy arrays becoz ml or dl models work best in numpy arry not list\n",
        "\n",
        "# %%\n",
        "import tensorflow as tf\n",
        "x,y=input_sequence[:,:-1],input_sequence[:,-1]\n",
        "\n",
        "# %%\n",
        "y\n",
        "\n",
        "# %% [markdown]\n",
        "# the place where the y is present is only set to 1\n",
        "\n",
        "# %%\n",
        "y=tf.keras.utils.to_categorical(y,num_classes=total_words)\n",
        "\n",
        "# %%\n",
        "y\n",
        "\n",
        "# %%\n",
        "x_train,x_test,y_train,y_test = train_test_split(x,y,test_size=0.29)\n",
        "\n",
        "# %%\n",
        "#TRAIN OUT LSTM RNN\n",
        "from tensorflow.keras.models import Sequential\n",
        "from tensorflow.keras.layers import Dense,Embedding,LSTM,Dropout\n",
        "\n",
        "# %%\n",
        "model=Sequential()\n",
        "model.add(Embedding(total_words,100,input_length=max_length-1)) #100 dim and input same as inputs\n",
        "model.add(LSTM(150,return_sequences=True))\n",
        "model.add(Dropout(0.2)) #drop 20% of the neurons\n",
        "model.add(LSTM(100))\n",
        "model.add(Dense(total_words,activation='softmax'))\n",
        "\n",
        "#COMPILING THE MODEL\n",
        "model.compile(loss='categorical_crossentropy',optimizer='adam',metrics=['accuracy'])\n",
        "\n",
        "# %%\n",
        "model.build((None,max_length))\n",
        "\n",
        "# %%\n",
        "model.summary()\n",
        "\n",
        "# %%\n",
        "x_train.shape\n",
        "\n",
        "# %%\n",
        "history = model.fit(x_train,y_train,epochs=50,validation_data=(x_test,y_test),verbose=1)\n",
        "\n",
        "# %%\n",
        "\n",
        "\n",
        "# %%\n",
        "\n",
        "\n",
        "# %%\n",
        "\n",
        "\n",
        "\n"
      ],
      "metadata": {
        "colab": {
          "base_uri": "https://localhost:8080/",
          "height": 1000
        },
        "id": "xGqpWOBZI1T6",
        "outputId": "8b70666c-a685-4b3c-904e-4ac5a127b94c"
      },
      "execution_count": 1,
      "outputs": [
        {
          "output_type": "stream",
          "name": "stderr",
          "text": [
            "[nltk_data] Downloading package gutenberg to /root/nltk_data...\n",
            "[nltk_data]   Unzipping corpora/gutenberg.zip.\n"
          ]
        },
        {
          "output_type": "stream",
          "name": "stdout",
          "text": [
            "4818\n"
          ]
        },
        {
          "output_type": "stream",
          "name": "stderr",
          "text": [
            "/usr/local/lib/python3.11/dist-packages/keras/src/layers/core/embedding.py:90: UserWarning: Argument `input_length` is deprecated. Just remove it.\n",
            "  warnings.warn(\n"
          ]
        },
        {
          "output_type": "display_data",
          "data": {
            "text/plain": [
              "\u001b[1mModel: \"sequential\"\u001b[0m\n"
            ],
            "text/html": [
              "<pre style=\"white-space:pre;overflow-x:auto;line-height:normal;font-family:Menlo,'DejaVu Sans Mono',consolas,'Courier New',monospace\"><span style=\"font-weight: bold\">Model: \"sequential\"</span>\n",
              "</pre>\n"
            ]
          },
          "metadata": {}
        },
        {
          "output_type": "display_data",
          "data": {
            "text/plain": [
              "┏━━━━━━━━━━━━━━━━━━━━━━━━━━━━━━━━━━━━━━┳━━━━━━━━━━━━━━━━━━━━━━━━━━━━━┳━━━━━━━━━━━━━━━━━┓\n",
              "┃\u001b[1m \u001b[0m\u001b[1mLayer (type)                        \u001b[0m\u001b[1m \u001b[0m┃\u001b[1m \u001b[0m\u001b[1mOutput Shape               \u001b[0m\u001b[1m \u001b[0m┃\u001b[1m \u001b[0m\u001b[1m        Param #\u001b[0m\u001b[1m \u001b[0m┃\n",
              "┡━━━━━━━━━━━━━━━━━━━━━━━━━━━━━━━━━━━━━━╇━━━━━━━━━━━━━━━━━━━━━━━━━━━━━╇━━━━━━━━━━━━━━━━━┩\n",
              "│ embedding (\u001b[38;5;33mEmbedding\u001b[0m)                │ (\u001b[38;5;45mNone\u001b[0m, \u001b[38;5;34m14\u001b[0m, \u001b[38;5;34m100\u001b[0m)             │         \u001b[38;5;34m481,800\u001b[0m │\n",
              "├──────────────────────────────────────┼─────────────────────────────┼─────────────────┤\n",
              "│ lstm (\u001b[38;5;33mLSTM\u001b[0m)                          │ (\u001b[38;5;45mNone\u001b[0m, \u001b[38;5;34m14\u001b[0m, \u001b[38;5;34m150\u001b[0m)             │         \u001b[38;5;34m150,600\u001b[0m │\n",
              "├──────────────────────────────────────┼─────────────────────────────┼─────────────────┤\n",
              "│ dropout (\u001b[38;5;33mDropout\u001b[0m)                    │ (\u001b[38;5;45mNone\u001b[0m, \u001b[38;5;34m14\u001b[0m, \u001b[38;5;34m150\u001b[0m)             │               \u001b[38;5;34m0\u001b[0m │\n",
              "├──────────────────────────────────────┼─────────────────────────────┼─────────────────┤\n",
              "│ lstm_1 (\u001b[38;5;33mLSTM\u001b[0m)                        │ (\u001b[38;5;45mNone\u001b[0m, \u001b[38;5;34m100\u001b[0m)                 │         \u001b[38;5;34m100,400\u001b[0m │\n",
              "├──────────────────────────────────────┼─────────────────────────────┼─────────────────┤\n",
              "│ dense (\u001b[38;5;33mDense\u001b[0m)                        │ (\u001b[38;5;45mNone\u001b[0m, \u001b[38;5;34m4818\u001b[0m)                │         \u001b[38;5;34m486,618\u001b[0m │\n",
              "└──────────────────────────────────────┴─────────────────────────────┴─────────────────┘\n"
            ],
            "text/html": [
              "<pre style=\"white-space:pre;overflow-x:auto;line-height:normal;font-family:Menlo,'DejaVu Sans Mono',consolas,'Courier New',monospace\">┏━━━━━━━━━━━━━━━━━━━━━━━━━━━━━━━━━━━━━━┳━━━━━━━━━━━━━━━━━━━━━━━━━━━━━┳━━━━━━━━━━━━━━━━━┓\n",
              "┃<span style=\"font-weight: bold\"> Layer (type)                         </span>┃<span style=\"font-weight: bold\"> Output Shape                </span>┃<span style=\"font-weight: bold\">         Param # </span>┃\n",
              "┡━━━━━━━━━━━━━━━━━━━━━━━━━━━━━━━━━━━━━━╇━━━━━━━━━━━━━━━━━━━━━━━━━━━━━╇━━━━━━━━━━━━━━━━━┩\n",
              "│ embedding (<span style=\"color: #0087ff; text-decoration-color: #0087ff\">Embedding</span>)                │ (<span style=\"color: #00d7ff; text-decoration-color: #00d7ff\">None</span>, <span style=\"color: #00af00; text-decoration-color: #00af00\">14</span>, <span style=\"color: #00af00; text-decoration-color: #00af00\">100</span>)             │         <span style=\"color: #00af00; text-decoration-color: #00af00\">481,800</span> │\n",
              "├──────────────────────────────────────┼─────────────────────────────┼─────────────────┤\n",
              "│ lstm (<span style=\"color: #0087ff; text-decoration-color: #0087ff\">LSTM</span>)                          │ (<span style=\"color: #00d7ff; text-decoration-color: #00d7ff\">None</span>, <span style=\"color: #00af00; text-decoration-color: #00af00\">14</span>, <span style=\"color: #00af00; text-decoration-color: #00af00\">150</span>)             │         <span style=\"color: #00af00; text-decoration-color: #00af00\">150,600</span> │\n",
              "├──────────────────────────────────────┼─────────────────────────────┼─────────────────┤\n",
              "│ dropout (<span style=\"color: #0087ff; text-decoration-color: #0087ff\">Dropout</span>)                    │ (<span style=\"color: #00d7ff; text-decoration-color: #00d7ff\">None</span>, <span style=\"color: #00af00; text-decoration-color: #00af00\">14</span>, <span style=\"color: #00af00; text-decoration-color: #00af00\">150</span>)             │               <span style=\"color: #00af00; text-decoration-color: #00af00\">0</span> │\n",
              "├──────────────────────────────────────┼─────────────────────────────┼─────────────────┤\n",
              "│ lstm_1 (<span style=\"color: #0087ff; text-decoration-color: #0087ff\">LSTM</span>)                        │ (<span style=\"color: #00d7ff; text-decoration-color: #00d7ff\">None</span>, <span style=\"color: #00af00; text-decoration-color: #00af00\">100</span>)                 │         <span style=\"color: #00af00; text-decoration-color: #00af00\">100,400</span> │\n",
              "├──────────────────────────────────────┼─────────────────────────────┼─────────────────┤\n",
              "│ dense (<span style=\"color: #0087ff; text-decoration-color: #0087ff\">Dense</span>)                        │ (<span style=\"color: #00d7ff; text-decoration-color: #00d7ff\">None</span>, <span style=\"color: #00af00; text-decoration-color: #00af00\">4818</span>)                │         <span style=\"color: #00af00; text-decoration-color: #00af00\">486,618</span> │\n",
              "└──────────────────────────────────────┴─────────────────────────────┴─────────────────┘\n",
              "</pre>\n"
            ]
          },
          "metadata": {}
        },
        {
          "output_type": "display_data",
          "data": {
            "text/plain": [
              "\u001b[1m Total params: \u001b[0m\u001b[38;5;34m1,219,418\u001b[0m (4.65 MB)\n"
            ],
            "text/html": [
              "<pre style=\"white-space:pre;overflow-x:auto;line-height:normal;font-family:Menlo,'DejaVu Sans Mono',consolas,'Courier New',monospace\"><span style=\"font-weight: bold\"> Total params: </span><span style=\"color: #00af00; text-decoration-color: #00af00\">1,219,418</span> (4.65 MB)\n",
              "</pre>\n"
            ]
          },
          "metadata": {}
        },
        {
          "output_type": "display_data",
          "data": {
            "text/plain": [
              "\u001b[1m Trainable params: \u001b[0m\u001b[38;5;34m1,219,418\u001b[0m (4.65 MB)\n"
            ],
            "text/html": [
              "<pre style=\"white-space:pre;overflow-x:auto;line-height:normal;font-family:Menlo,'DejaVu Sans Mono',consolas,'Courier New',monospace\"><span style=\"font-weight: bold\"> Trainable params: </span><span style=\"color: #00af00; text-decoration-color: #00af00\">1,219,418</span> (4.65 MB)\n",
              "</pre>\n"
            ]
          },
          "metadata": {}
        },
        {
          "output_type": "display_data",
          "data": {
            "text/plain": [
              "\u001b[1m Non-trainable params: \u001b[0m\u001b[38;5;34m0\u001b[0m (0.00 B)\n"
            ],
            "text/html": [
              "<pre style=\"white-space:pre;overflow-x:auto;line-height:normal;font-family:Menlo,'DejaVu Sans Mono',consolas,'Courier New',monospace\"><span style=\"font-weight: bold\"> Non-trainable params: </span><span style=\"color: #00af00; text-decoration-color: #00af00\">0</span> (0.00 B)\n",
              "</pre>\n"
            ]
          },
          "metadata": {}
        },
        {
          "output_type": "stream",
          "name": "stdout",
          "text": [
            "Epoch 1/50\n",
            "\u001b[1m659/659\u001b[0m \u001b[32m━━━━━━━━━━━━━━━━━━━━\u001b[0m\u001b[37m\u001b[0m \u001b[1m46s\u001b[0m 65ms/step - accuracy: 0.0324 - loss: 7.0960 - val_accuracy: 0.0310 - val_loss: 6.6515\n",
            "Epoch 2/50\n",
            "\u001b[1m659/659\u001b[0m \u001b[32m━━━━━━━━━━━━━━━━━━━━\u001b[0m\u001b[37m\u001b[0m \u001b[1m43s\u001b[0m 65ms/step - accuracy: 0.0391 - loss: 6.3801 - val_accuracy: 0.0468 - val_loss: 6.6880\n",
            "Epoch 3/50\n",
            "\u001b[1m659/659\u001b[0m \u001b[32m━━━━━━━━━━━━━━━━━━━━\u001b[0m\u001b[37m\u001b[0m \u001b[1m83s\u001b[0m 66ms/step - accuracy: 0.0460 - loss: 6.2217 - val_accuracy: 0.0536 - val_loss: 6.7391\n",
            "Epoch 4/50\n",
            "\u001b[1m659/659\u001b[0m \u001b[32m━━━━━━━━━━━━━━━━━━━━\u001b[0m\u001b[37m\u001b[0m \u001b[1m49s\u001b[0m 74ms/step - accuracy: 0.0578 - loss: 6.0667 - val_accuracy: 0.0570 - val_loss: 6.7172\n",
            "Epoch 5/50\n",
            "\u001b[1m659/659\u001b[0m \u001b[32m━━━━━━━━━━━━━━━━━━━━\u001b[0m\u001b[37m\u001b[0m \u001b[1m76s\u001b[0m 65ms/step - accuracy: 0.0579 - loss: 5.9273 - val_accuracy: 0.0565 - val_loss: 6.7261\n",
            "Epoch 6/50\n",
            "\u001b[1m659/659\u001b[0m \u001b[32m━━━━━━━━━━━━━━━━━━━━\u001b[0m\u001b[37m\u001b[0m \u001b[1m81s\u001b[0m 63ms/step - accuracy: 0.0657 - loss: 5.7786 - val_accuracy: 0.0605 - val_loss: 6.7922\n",
            "Epoch 7/50\n",
            "\u001b[1m659/659\u001b[0m \u001b[32m━━━━━━━━━━━━━━━━━━━━\u001b[0m\u001b[37m\u001b[0m \u001b[1m43s\u001b[0m 65ms/step - accuracy: 0.0724 - loss: 5.6254 - val_accuracy: 0.0665 - val_loss: 6.8714\n",
            "Epoch 8/50\n",
            "\u001b[1m659/659\u001b[0m \u001b[32m━━━━━━━━━━━━━━━━━━━━\u001b[0m\u001b[37m\u001b[0m \u001b[1m88s\u001b[0m 75ms/step - accuracy: 0.0768 - loss: 5.5403 - val_accuracy: 0.0692 - val_loss: 6.9316\n",
            "Epoch 9/50\n",
            "\u001b[1m659/659\u001b[0m \u001b[32m━━━━━━━━━━━━━━━━━━━━\u001b[0m\u001b[37m\u001b[0m \u001b[1m82s\u001b[0m 75ms/step - accuracy: 0.0853 - loss: 5.4092 - val_accuracy: 0.0699 - val_loss: 6.9916\n",
            "Epoch 10/50\n",
            "\u001b[1m659/659\u001b[0m \u001b[32m━━━━━━━━━━━━━━━━━━━━\u001b[0m\u001b[37m\u001b[0m \u001b[1m43s\u001b[0m 66ms/step - accuracy: 0.0937 - loss: 5.2791 - val_accuracy: 0.0709 - val_loss: 7.0697\n",
            "Epoch 11/50\n",
            "\u001b[1m659/659\u001b[0m \u001b[32m━━━━━━━━━━━━━━━━━━━━\u001b[0m\u001b[37m\u001b[0m \u001b[1m82s\u001b[0m 66ms/step - accuracy: 0.0904 - loss: 5.1820 - val_accuracy: 0.0707 - val_loss: 7.1586\n",
            "Epoch 12/50\n",
            "\u001b[1m659/659\u001b[0m \u001b[32m━━━━━━━━━━━━━━━━━━━━\u001b[0m\u001b[37m\u001b[0m \u001b[1m81s\u001b[0m 65ms/step - accuracy: 0.1067 - loss: 5.0467 - val_accuracy: 0.0677 - val_loss: 7.2630\n",
            "Epoch 13/50\n",
            "\u001b[1m659/659\u001b[0m \u001b[32m━━━━━━━━━━━━━━━━━━━━\u001b[0m\u001b[37m\u001b[0m \u001b[1m44s\u001b[0m 67ms/step - accuracy: 0.1089 - loss: 4.9453 - val_accuracy: 0.0697 - val_loss: 7.3377\n",
            "Epoch 14/50\n",
            "\u001b[1m659/659\u001b[0m \u001b[32m━━━━━━━━━━━━━━━━━━━━\u001b[0m\u001b[37m\u001b[0m \u001b[1m82s\u001b[0m 67ms/step - accuracy: 0.1162 - loss: 4.8205 - val_accuracy: 0.0663 - val_loss: 7.4594\n",
            "Epoch 15/50\n",
            "\u001b[1m659/659\u001b[0m \u001b[32m━━━━━━━━━━━━━━━━━━━━\u001b[0m\u001b[37m\u001b[0m \u001b[1m82s\u001b[0m 67ms/step - accuracy: 0.1159 - loss: 4.7120 - val_accuracy: 0.0672 - val_loss: 7.5923\n",
            "Epoch 16/50\n",
            "\u001b[1m659/659\u001b[0m \u001b[32m━━━━━━━━━━━━━━━━━━━━\u001b[0m\u001b[37m\u001b[0m \u001b[1m43s\u001b[0m 65ms/step - accuracy: 0.1247 - loss: 4.5916 - val_accuracy: 0.0642 - val_loss: 7.6559\n",
            "Epoch 17/50\n",
            "\u001b[1m659/659\u001b[0m \u001b[32m━━━━━━━━━━━━━━━━━━━━\u001b[0m\u001b[37m\u001b[0m \u001b[1m43s\u001b[0m 65ms/step - accuracy: 0.1328 - loss: 4.4808 - val_accuracy: 0.0670 - val_loss: 7.7909\n",
            "Epoch 18/50\n",
            "\u001b[1m659/659\u001b[0m \u001b[32m━━━━━━━━━━━━━━━━━━━━\u001b[0m\u001b[37m\u001b[0m \u001b[1m45s\u001b[0m 68ms/step - accuracy: 0.1449 - loss: 4.3844 - val_accuracy: 0.0657 - val_loss: 7.9334\n",
            "Epoch 19/50\n",
            "\u001b[1m659/659\u001b[0m \u001b[32m━━━━━━━━━━━━━━━━━━━━\u001b[0m\u001b[37m\u001b[0m \u001b[1m82s\u001b[0m 68ms/step - accuracy: 0.1519 - loss: 4.2868 - val_accuracy: 0.0615 - val_loss: 8.0256\n",
            "Epoch 20/50\n",
            "\u001b[1m659/659\u001b[0m \u001b[32m━━━━━━━━━━━━━━━━━━━━\u001b[0m\u001b[37m\u001b[0m \u001b[1m45s\u001b[0m 68ms/step - accuracy: 0.1699 - loss: 4.1685 - val_accuracy: 0.0637 - val_loss: 8.1384\n",
            "Epoch 21/50\n",
            "\u001b[1m659/659\u001b[0m \u001b[32m━━━━━━━━━━━━━━━━━━━━\u001b[0m\u001b[37m\u001b[0m \u001b[1m88s\u001b[0m 77ms/step - accuracy: 0.1845 - loss: 4.1040 - val_accuracy: 0.0625 - val_loss: 8.2766\n",
            "Epoch 22/50\n",
            "\u001b[1m659/659\u001b[0m \u001b[32m━━━━━━━━━━━━━━━━━━━━\u001b[0m\u001b[37m\u001b[0m \u001b[1m77s\u001b[0m 69ms/step - accuracy: 0.2039 - loss: 3.9819 - val_accuracy: 0.0579 - val_loss: 8.3850\n",
            "Epoch 23/50\n",
            "\u001b[1m659/659\u001b[0m \u001b[32m━━━━━━━━━━━━━━━━━━━━\u001b[0m\u001b[37m\u001b[0m \u001b[1m81s\u001b[0m 67ms/step - accuracy: 0.2176 - loss: 3.9098 - val_accuracy: 0.0619 - val_loss: 8.5002\n",
            "Epoch 24/50\n",
            "\u001b[1m659/659\u001b[0m \u001b[32m━━━━━━━━━━━━━━━━━━━━\u001b[0m\u001b[37m\u001b[0m \u001b[1m46s\u001b[0m 69ms/step - accuracy: 0.2319 - loss: 3.8231 - val_accuracy: 0.0621 - val_loss: 8.5974\n",
            "Epoch 25/50\n",
            "\u001b[1m659/659\u001b[0m \u001b[32m━━━━━━━━━━━━━━━━━━━━\u001b[0m\u001b[37m\u001b[0m \u001b[1m45s\u001b[0m 68ms/step - accuracy: 0.2420 - loss: 3.7614 - val_accuracy: 0.0623 - val_loss: 8.7132\n",
            "Epoch 26/50\n",
            "\u001b[1m659/659\u001b[0m \u001b[32m━━━━━━━━━━━━━━━━━━━━\u001b[0m\u001b[37m\u001b[0m \u001b[1m83s\u001b[0m 69ms/step - accuracy: 0.2571 - loss: 3.6801 - val_accuracy: 0.0635 - val_loss: 8.8413\n",
            "Epoch 27/50\n",
            "\u001b[1m659/659\u001b[0m \u001b[32m━━━━━━━━━━━━━━━━━━━━\u001b[0m\u001b[37m\u001b[0m \u001b[1m81s\u001b[0m 68ms/step - accuracy: 0.2663 - loss: 3.6079 - val_accuracy: 0.0598 - val_loss: 8.9068\n",
            "Epoch 28/50\n",
            "\u001b[1m659/659\u001b[0m \u001b[32m━━━━━━━━━━━━━━━━━━━━\u001b[0m\u001b[37m\u001b[0m \u001b[1m46s\u001b[0m 70ms/step - accuracy: 0.2836 - loss: 3.5387 - val_accuracy: 0.0633 - val_loss: 9.0180\n",
            "Epoch 29/50\n",
            "\u001b[1m659/659\u001b[0m \u001b[32m━━━━━━━━━━━━━━━━━━━━\u001b[0m\u001b[37m\u001b[0m \u001b[1m45s\u001b[0m 69ms/step - accuracy: 0.2933 - loss: 3.4806 - val_accuracy: 0.0613 - val_loss: 9.1174\n",
            "Epoch 30/50\n",
            "\u001b[1m659/659\u001b[0m \u001b[32m━━━━━━━━━━━━━━━━━━━━\u001b[0m\u001b[37m\u001b[0m \u001b[1m82s\u001b[0m 69ms/step - accuracy: 0.3041 - loss: 3.4262 - val_accuracy: 0.0611 - val_loss: 9.2142\n",
            "Epoch 31/50\n",
            "\u001b[1m659/659\u001b[0m \u001b[32m━━━━━━━━━━━━━━━━━━━━\u001b[0m\u001b[37m\u001b[0m \u001b[1m46s\u001b[0m 70ms/step - accuracy: 0.3117 - loss: 3.3734 - val_accuracy: 0.0603 - val_loss: 9.3040\n",
            "Epoch 32/50\n",
            "\u001b[1m659/659\u001b[0m \u001b[32m━━━━━━━━━━━━━━━━━━━━\u001b[0m\u001b[37m\u001b[0m \u001b[1m80s\u001b[0m 68ms/step - accuracy: 0.3172 - loss: 3.3358 - val_accuracy: 0.0591 - val_loss: 9.4014\n",
            "Epoch 33/50\n",
            "\u001b[1m659/659\u001b[0m \u001b[32m━━━━━━━━━━━━━━━━━━━━\u001b[0m\u001b[37m\u001b[0m \u001b[1m82s\u001b[0m 68ms/step - accuracy: 0.3286 - loss: 3.2631 - val_accuracy: 0.0546 - val_loss: 9.4664\n",
            "Epoch 34/50\n",
            "\u001b[1m659/659\u001b[0m \u001b[32m━━━━━━━━━━━━━━━━━━━━\u001b[0m\u001b[37m\u001b[0m \u001b[1m51s\u001b[0m 77ms/step - accuracy: 0.3360 - loss: 3.2091 - val_accuracy: 0.0605 - val_loss: 9.5595\n",
            "Epoch 35/50\n",
            "\u001b[1m659/659\u001b[0m \u001b[32m━━━━━━━━━━━━━━━━━━━━\u001b[0m\u001b[37m\u001b[0m \u001b[1m76s\u001b[0m 69ms/step - accuracy: 0.3497 - loss: 3.1800 - val_accuracy: 0.0578 - val_loss: 9.6201\n",
            "Epoch 36/50\n",
            "\u001b[1m659/659\u001b[0m \u001b[32m━━━━━━━━━━━━━━━━━━━━\u001b[0m\u001b[37m\u001b[0m \u001b[1m51s\u001b[0m 78ms/step - accuracy: 0.3538 - loss: 3.1277 - val_accuracy: 0.0584 - val_loss: 9.7368\n",
            "Epoch 37/50\n",
            "\u001b[1m659/659\u001b[0m \u001b[32m━━━━━━━━━━━━━━━━━━━━\u001b[0m\u001b[37m\u001b[0m \u001b[1m77s\u001b[0m 70ms/step - accuracy: 0.3593 - loss: 3.0945 - val_accuracy: 0.0585 - val_loss: 9.7613\n",
            "Epoch 38/50\n",
            "\u001b[1m659/659\u001b[0m \u001b[32m━━━━━━━━━━━━━━━━━━━━\u001b[0m\u001b[37m\u001b[0m \u001b[1m82s\u001b[0m 69ms/step - accuracy: 0.3781 - loss: 3.0206 - val_accuracy: 0.0578 - val_loss: 9.8485\n",
            "Epoch 39/50\n",
            "\u001b[1m659/659\u001b[0m \u001b[32m━━━━━━━━━━━━━━━━━━━━\u001b[0m\u001b[37m\u001b[0m \u001b[1m47s\u001b[0m 71ms/step - accuracy: 0.3803 - loss: 2.9978 - val_accuracy: 0.0574 - val_loss: 9.9387\n",
            "Epoch 40/50\n",
            "\u001b[1m659/659\u001b[0m \u001b[32m━━━━━━━━━━━━━━━━━━━━\u001b[0m\u001b[37m\u001b[0m \u001b[1m81s\u001b[0m 69ms/step - accuracy: 0.3877 - loss: 2.9519 - val_accuracy: 0.0585 - val_loss: 10.0060\n",
            "Epoch 41/50\n",
            "\u001b[1m659/659\u001b[0m \u001b[32m━━━━━━━━━━━━━━━━━━━━\u001b[0m\u001b[37m\u001b[0m \u001b[1m47s\u001b[0m 71ms/step - accuracy: 0.3953 - loss: 2.9229 - val_accuracy: 0.0554 - val_loss: 10.0640\n",
            "Epoch 42/50\n",
            "\u001b[1m659/659\u001b[0m \u001b[32m━━━━━━━━━━━━━━━━━━━━\u001b[0m\u001b[37m\u001b[0m \u001b[1m45s\u001b[0m 68ms/step - accuracy: 0.3988 - loss: 2.8858 - val_accuracy: 0.0572 - val_loss: 10.1299\n",
            "Epoch 43/50\n",
            "\u001b[1m659/659\u001b[0m \u001b[32m━━━━━━━━━━━━━━━━━━━━\u001b[0m\u001b[37m\u001b[0m \u001b[1m47s\u001b[0m 71ms/step - accuracy: 0.4056 - loss: 2.8733 - val_accuracy: 0.0555 - val_loss: 10.1977\n",
            "Epoch 44/50\n",
            "\u001b[1m659/659\u001b[0m \u001b[32m━━━━━━━━━━━━━━━━━━━━\u001b[0m\u001b[37m\u001b[0m \u001b[1m81s\u001b[0m 70ms/step - accuracy: 0.4227 - loss: 2.7983 - val_accuracy: 0.0532 - val_loss: 10.2687\n",
            "Epoch 45/50\n",
            "\u001b[1m659/659\u001b[0m \u001b[32m━━━━━━━━━━━━━━━━━━━━\u001b[0m\u001b[37m\u001b[0m \u001b[1m82s\u001b[0m 70ms/step - accuracy: 0.4227 - loss: 2.7663 - val_accuracy: 0.0584 - val_loss: 10.3560\n",
            "Epoch 46/50\n",
            "\u001b[1m659/659\u001b[0m \u001b[32m━━━━━━━━━━━━━━━━━━━━\u001b[0m\u001b[37m\u001b[0m \u001b[1m87s\u001b[0m 78ms/step - accuracy: 0.4303 - loss: 2.7313 - val_accuracy: 0.0556 - val_loss: 10.3842\n",
            "Epoch 47/50\n",
            "\u001b[1m659/659\u001b[0m \u001b[32m━━━━━━━━━━━━━━━━━━━━\u001b[0m\u001b[37m\u001b[0m \u001b[1m77s\u001b[0m 69ms/step - accuracy: 0.4355 - loss: 2.6945 - val_accuracy: 0.0574 - val_loss: 10.4561\n",
            "Epoch 48/50\n",
            "\u001b[1m659/659\u001b[0m \u001b[32m━━━━━━━━━━━━━━━━━━━━\u001b[0m\u001b[37m\u001b[0m \u001b[1m46s\u001b[0m 69ms/step - accuracy: 0.4422 - loss: 2.6553 - val_accuracy: 0.0578 - val_loss: 10.5104\n",
            "Epoch 49/50\n",
            "\u001b[1m659/659\u001b[0m \u001b[32m━━━━━━━━━━━━━━━━━━━━\u001b[0m\u001b[37m\u001b[0m \u001b[1m81s\u001b[0m 68ms/step - accuracy: 0.4498 - loss: 2.6201 - val_accuracy: 0.0568 - val_loss: 10.5790\n",
            "Epoch 50/50\n",
            "\u001b[1m659/659\u001b[0m \u001b[32m━━━━━━━━━━━━━━━━━━━━\u001b[0m\u001b[37m\u001b[0m \u001b[1m82s\u001b[0m 68ms/step - accuracy: 0.4545 - loss: 2.6149 - val_accuracy: 0.0568 - val_loss: 10.6165\n"
          ]
        }
      ]
    },
    {
      "cell_type": "code",
      "execution_count": 2,
      "metadata": {
        "id": "KEBBczDlItlq"
      },
      "outputs": [],
      "source": [
        "def predict_next_word(model,tokenizer,text,max_length):\n",
        "    token_list=tokenizer.texts_to_sequences([text])[0]\n",
        "    if len(token_list)>=max_length:\n",
        "      token_list = token_list[-(max_length-1):]\n",
        "    token_list=pad_sequences([token_list],maxlen=max_length-1)\n",
        "    predicted=model.predict(token_list,verbose=0)\n",
        "    predicted_word=np.argmax(predicted,axis=1)\n",
        "    for word,index in tokenizer.word_index.items():\n",
        "      if index==predicted_word:\n",
        "        return word\n",
        "    return None"
      ]
    },
    {
      "cell_type": "code",
      "source": [
        "input_text=\"To be or not to be\"\n",
        "print(f\"Input text: {input_text}\")\n",
        "max_length=model.input_shape[1]+1\n",
        "predicted_word=predict_next_word(model,tokenizer,input_text,max_length)\n",
        "print(f\"Predicted word: {predicted_word}\")"
      ],
      "metadata": {
        "colab": {
          "base_uri": "https://localhost:8080/"
        },
        "id": "pR5gmZWCozD2",
        "outputId": "ba62f84f-efdf-4fcc-87a5-afe7c439e10a"
      },
      "execution_count": 4,
      "outputs": [
        {
          "output_type": "stream",
          "name": "stdout",
          "text": [
            "Input text: To be or not to be\n",
            "Predicted word: so\n"
          ]
        }
      ]
    },
    {
      "cell_type": "code",
      "source": [
        "from typing import Protocol\n",
        "import pickle\n",
        "model.save(\"model.h5\")\n",
        "\n",
        "with open(\"tokenizer.pkl\",'wb') as file:\n",
        "  pickle.dump(tokenizer,file,protocol=pickle.HIGHEST_PROTOCOL)"
      ],
      "metadata": {
        "colab": {
          "base_uri": "https://localhost:8080/"
        },
        "id": "wEUHQksDpnfh",
        "outputId": "ae6e7059-670c-405b-f6cc-73d2361bef29"
      },
      "execution_count": 6,
      "outputs": [
        {
          "output_type": "stream",
          "name": "stderr",
          "text": [
            "WARNING:absl:You are saving your model as an HDF5 file via `model.save()` or `keras.saving.save_model(model)`. This file format is considered legacy. We recommend using instead the native Keras format, e.g. `model.save('my_model.keras')` or `keras.saving.save_model(model, 'my_model.keras')`. \n"
          ]
        }
      ]
    },
    {
      "cell_type": "code",
      "source": [],
      "metadata": {
        "id": "vmQ6178crJ34"
      },
      "execution_count": null,
      "outputs": []
    }
  ]
}